{
  "cells": [
    {
      "cell_type": "markdown",
      "metadata": {
        "id": "3IGr7-SPuivC"
      },
      "source": [
        "## **PDF2Markdown**\n",
        "\n",
        "\n",
        "Quick and dirty notebook leveraging [Nougat](https://github.com.facebookresearch/nougat) for OCR on Academic Papers. To be used with GPU."
      ]
    },
    {
      "cell_type": "markdown",
      "metadata": {
        "id": "o1psC42ludfh"
      },
      "source": [
        "### Installing the required libraries"
      ]
    },
    {
      "cell_type": "code",
      "execution_count": null,
      "metadata": {
        "id": "VTVyJd43TJjh"
      },
      "outputs": [],
      "source": [
        "!pip install nougat-ocr -q"
      ]
    },
    {
      "cell_type": "markdown",
      "metadata": {
        "id": "DHGxzqdmkbVf"
      },
      "source": [
        "### Download a smaple pdf file"
      ]
    },
    {
      "cell_type": "code",
      "execution_count": null,
      "metadata": {
        "id": "RMsn4EE1j9Gl",
        "colab": {
          "base_uri": "https://localhost:8080/"
        },
        "outputId": "cd11652c-c234-44f6-f804-f87496200344"
      },
      "outputs": [
        {
          "output_type": "stream",
          "name": "stdout",
          "text": [
            "PDF downloaded successfully.\n"
          ]
        }
      ],
      "source": [
        "import requests\n",
        "import os\n",
        "\n",
        "# create a new input directory for pdf downloads\n",
        "if not os.path.exists(\"input\"):\n",
        "    os.mkdir(\"input\")\n",
        "def get_pdf(pdf_link):\n",
        "\n",
        "  # Send a GET request to the PDF link\n",
        "  response = requests.get(pdf_link)\n",
        "  if response.status_code == 200:\n",
        "      # Save the PDF content to a local file\n",
        "      with open(\"input/CD.pdf\", 'wb') as pdf_file:\n",
        "          pdf_file.write(response.content)\n",
        "      print(\"PDF downloaded successfully.\")\n",
        "  else:\n",
        "      print(\"Failed to download the PDF.\")\n",
        "  return\n",
        "\n",
        "get_pdf(\"https://arxiv.org/pdf/2108.04106.pdf\")"
      ]
    },
    {
      "cell_type": "markdown",
      "metadata": {
        "id": "ghKR79CknBcP"
      },
      "source": [
        "### Downloading model weights"
      ]
    },
    {
      "cell_type": "code",
      "execution_count": null,
      "metadata": {
        "id": "y88ZxhOVaOXt"
      },
      "outputs": [],
      "source": [
        "from nougat.utils.checkpoint import get_checkpoint\n",
        "CHECKPOINT = get_checkpoint(model_tag = '0.1.0-base')"
      ]
    },
    {
      "cell_type": "markdown",
      "metadata": {
        "id": "BUG9t33OpKao"
      },
      "source": [
        "### Writing inference functions for Gradio app"
      ]
    },
    {
      "cell_type": "code",
      "execution_count": null,
      "metadata": {
        "id": "OGRpNZkFzyz1"
      },
      "outputs": [],
      "source": [
        "import subprocess\n",
        "import uuid\n",
        "import requests\n",
        "import re\n",
        "\n",
        "# Run nougat on the pdf file\n",
        "def nougat_ocr(file_name):\n",
        "\n",
        "  # Command to run\n",
        "  cli_command = [\n",
        "      'nougat',\n",
        "      '--out', '/content/',\n",
        "      'pdf', file_name,\n",
        "      '--checkpoint', CHECKPOINT,\n",
        "      '--markdown',\n",
        "      '--no-skipping',\n",
        "      '--recompute'\n",
        "  ]\n",
        "\n",
        "  # Run the command\n",
        "  subprocess.run(cli_command, stdout=subprocess.PIPE, stderr=subprocess.PIPE, text=True)\n",
        "\n",
        "  return"
      ]
    },
    {
      "cell_type": "code",
      "source": [
        "nougat_ocr(\"/content/input/CD.pdf\")"
      ],
      "metadata": {
        "id": "OYHEDRiGbQy-"
      },
      "execution_count": null,
      "outputs": []
    }
  ],
  "metadata": {
    "colab": {
      "provenance": [],
      "gpuType": "T4"
    },
    "kernelspec": {
      "display_name": "Python 3",
      "name": "python3"
    },
    "language_info": {
      "codemirror_mode": {
        "name": "ipython",
        "version": 3
      },
      "file_extension": ".py",
      "mimetype": "text/x-python",
      "name": "python",
      "nbconvert_exporter": "python",
      "pygments_lexer": "ipython3",
      "version": "3.9.16"
    },
    "accelerator": "GPU"
  },
  "nbformat": 4,
  "nbformat_minor": 0
}
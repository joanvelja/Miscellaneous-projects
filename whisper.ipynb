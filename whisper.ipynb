{
  "cells": [
    {
      "cell_type": "markdown",
      "metadata": {
        "id": "Tg3s_SkcWIG6"
      },
      "source": [
        "## **Whisper - Voice to Text**"
      ]
    },
    {
      "cell_type": "markdown",
      "metadata": {
        "id": "5JUDDT8eWNoM"
      },
      "source": [
        "#### Install libraries"
      ]
    },
    {
      "cell_type": "code",
      "execution_count": null,
      "metadata": {},
      "outputs": [],
      "source": [
        "!pip install -q --upgrade pip"
      ]
    },
    {
      "cell_type": "code",
      "execution_count": null,
      "metadata": {
        "id": "fuHWnZ0GQ2P_"
      },
      "outputs": [],
      "source": [
        "!pip install --upgrade transformers optimum accelerate datasets[audio] -q\n",
        "!pip install packaging ninja -q\n",
        "!pip install flash-attn --no-build-isolation -q\n",
        "!pip install insanely-fast-whisper --ignore-requires-python"
      ]
    },
    {
      "cell_type": "code",
      "execution_count": null,
      "metadata": {
        "id": "zHV7anXzRLB0"
      },
      "outputs": [],
      "source": [
        "import torch\n",
        "from transformers import pipeline\n",
        "from transformers.utils import is_flash_attn_2_available"
      ]
    },
    {
      "cell_type": "code",
      "execution_count": null,
      "metadata": {},
      "outputs": [],
      "source": [
        "from moviepy.editor import VideoFileClip\n",
        "\n",
        "# This function will take the path of an MP4 file and convert it to MP3\n",
        "def convert_mp4_to_mp3(mp4_file_path, mp3_file_path):\n",
        "    video_clip = VideoFileClip(mp4_file_path)\n",
        "    audio_clip = video_clip.audio\n",
        "    audio_clip.write_audiofile(mp3_file_path)\n",
        "    audio_clip.close()\n",
        "    video_clip.close()"
      ]
    },
    {
      "cell_type": "markdown",
      "metadata": {
        "id": "nXthaEQWW1zk"
      },
      "source": [
        "Change <karpathy_BPE.mp3> with whatever file you wanna upload"
      ]
    },
    {
      "cell_type": "code",
      "execution_count": null,
      "metadata": {
        "id": "SfI0kFuKRn9C"
      },
      "outputs": [],
      "source": [
        "!insanely-fast-whisper --file-name karpathy_BPE.mp3"
      ]
    }
  ],
  "metadata": {
    "accelerator": "GPU",
    "colab": {
      "gpuType": "T4",
      "provenance": []
    },
    "kernelspec": {
      "display_name": "Python 3",
      "name": "python3"
    },
    "language_info": {
      "name": "python"
    }
  },
  "nbformat": 4,
  "nbformat_minor": 0
}
